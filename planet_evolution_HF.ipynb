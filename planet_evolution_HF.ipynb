{
 "cells": [
  {
   "cell_type": "code",
   "execution_count": 5,
   "id": "43188d6a-9213-4b7e-a05c-7ba93951c227",
   "metadata": {},
   "outputs": [],
   "source": [
    "import numpy as np\n",
    "import pandas as pd #just in case i guess idk\n",
    "import matplotlib.pyplot as plt #for graphing?\n",
    "import math #this is how to get pi\n",
    "import iop_ext as iop #artem's code for the radius/error functions - irradiated ocean planets"
   ]
  },
  {
   "cell_type": "code",
   "execution_count": 6,
   "id": "a96e557b-8696-450a-bd6b-f71a60f2815b",
   "metadata": {},
   "outputs": [
    {
     "ename": "SyntaxError",
     "evalue": "invalid syntax (1745727279.py, line 16)",
     "output_type": "error",
     "traceback": [
      "\u001b[0;36m  Cell \u001b[0;32mIn[6], line 16\u001b[0;36m\u001b[0m\n\u001b[0;31m    Lstar =  #luminosity of host star\u001b[0m\n\u001b[0m             ^\u001b[0m\n\u001b[0;31mSyntaxError\u001b[0m\u001b[0;31m:\u001b[0m invalid syntax\n"
     ]
    }
   ],
   "source": [
    "#DEFINE CONSTANTS\n",
    "Lsun = 3.846*10**(26) #luminosity of sun in watts\n",
    "Msun = 1.9891*10**(30) #mass of sun in kg\n",
    "Mearth = 5.97219*10**(24) #mass of earth in kg\n",
    "Rearth = 6.371*10**6 #radius of earth in m\n",
    "au = 1.49598*10**11 #astronomical unit (distance from earth to sun) in m\n",
    "yr = 3600*24*365 #converting years to seconds\n",
    "a0 = 0.5 #slope at which Lhe decreases over time\n",
    "tsat = 100*1e6*yr #in sec (length of the saturation phase?)\n",
    "G = 6.67 * 10**(-11) #universal gravitational constant\n",
    "pi = math.pi #pi\n",
    "\n",
    "#PLANET: \n",
    "Lstar =  #luminosity of host star\n",
    "Mstar =  #mass of host star\n",
    "Teq =  #equillibrium temperature of planet in K\n",
    "a = #semimajor axis\n",
    "x0 = #initial WMF\n",
    "\n",
    "Lsat = (10**(-3.5))*Lsun*(Mstar/Msun) #Lhe (high energy luminosity - Xrays and UV) during the saturation phase (Lhe remains constant)\n",
    "CMFprime = 0.325 #planet reduced core mass fraction (cmf') - same as earth\n",
    "\n",
    "\n",
    "#go to NEA, pick exoplanet and put all that data in here ^"
   ]
  },
  {
   "cell_type": "code",
   "execution_count": 7,
   "id": "b16cadf0-202c-4c9a-bb27-0fde0d3b71a7",
   "metadata": {},
   "outputs": [
    {
     "ename": "NameError",
     "evalue": "name 'yr' is not defined",
     "output_type": "error",
     "traceback": [
      "\u001b[0;31m---------------------------------------------------------------------------\u001b[0m",
      "\u001b[0;31mNameError\u001b[0m                                 Traceback (most recent call last)",
      "Cell \u001b[0;32mIn[7], line 2\u001b[0m\n\u001b[1;32m      1\u001b[0m \u001b[38;5;66;03m#INITIALIZE VARIABLES (will be added to in the loop but this is where they start)\u001b[39;00m\n\u001b[0;32m----> 2\u001b[0m t \u001b[38;5;241m=\u001b[39m \u001b[38;5;241m1e6\u001b[39m\u001b[38;5;241m*\u001b[39m\u001b[43myr\u001b[49m \u001b[38;5;66;03m#initial time\u001b[39;00m\n\u001b[1;32m      3\u001b[0m M0 \u001b[38;5;241m=\u001b[39m \u001b[38;5;241m5\u001b[39m\u001b[38;5;241m*\u001b[39mMearth \u001b[38;5;66;03m#initial planet mass\u001b[39;00m\n\u001b[1;32m      4\u001b[0m Mp \u001b[38;5;241m=\u001b[39m M0 \u001b[38;5;66;03m#planet mass\u001b[39;00m\n",
      "\u001b[0;31mNameError\u001b[0m: name 'yr' is not defined"
     ]
    }
   ],
   "source": [
    "#INITIALIZE VARIABLES (will be added to in the loop but this is where they start)\n",
    "t = 1e6*yr #initial time\n",
    "M0 = 5*Mearth #initial mass of planet\n",
    "Mp = M0 #planet mass"
   ]
  },
  {
   "cell_type": "code",
   "execution_count": null,
   "id": "d9bdb1cc-9700-4b53-9fd3-2befc891f773",
   "metadata": {},
   "outputs": [],
   "source": [
    "#DEFINE FUNCTIONS\n",
    "def RpFunction(CMF, x, Teq, Mp): #function to find the radius of the planet in m\n",
    "    radius = iop.radius_iop(CMF, x, Teq, Mp/Mearth) #computes the radius of a planet, using the IOP model from Aguichine 2021\n",
    "    return radius*Rearth\n",
    "\n",
    "def nFunction(Mp, Rp): #n = efficiency parameter (greek letter eta) (unitless) - how much high energy is converted into mass loss\n",
    "    vesc = ((2*G*Mp)/(Rp))**(1/2) #escape velocity at the planet's surface\n",
    "    n = 0.1*((vesc/15)**-2)\n",
    "    return n\n",
    "\n",
    "def LheFunction(t): #Lhe = high energy luminosity of the host star\n",
    "    if (t<tsat):\n",
    "        return Lsat\n",
    "    else:\n",
    "        Lhe = Lsat*((t/tsat)**(-1-a0))\n",
    "        return Lhe\n",
    "\n",
    "def mFunction(Mp, Rp, t): #first time derivative of Mp (mass loss rate) in kg/s\n",
    "    Lhe = LheFunction(t)\n",
    "    n = nFunction(Mp, Rp)\n",
    "    m = (n*(((pi)*(Rp**3)*(Lhe))/(4*(pi)*(a**2)*(G)*(Mp))))\n",
    "    return m #this returns the mass loss rate in kilograms per second\n",
    "#to get mass loss in earth masses per billion years, multiply result by 1e9*yr and divide by Mearth (see test code from meeting)\n",
    "\n",
    "def xwmfFunction(Mp): #x = water mass fraction\n",
    "    # original guess was x = (Mp-(M0*x0))/Mp but I fear that may be wrong\n",
    "    x = (M0*x0-M0+Mf)/Mf\n",
    "    #basically W0(initial amount of water) = M0*x0, Mlost = M0-Mf, Wf(final amount of water) = W0-Mlost, x = (Wf/Mf)\n",
    "    return x"
   ]
  },
  {
   "cell_type": "code",
   "execution_count": 3,
   "id": "facaae5f-36fc-4c48-aea5-b3a265ef88f0",
   "metadata": {},
   "outputs": [
    {
     "ename": "NameError",
     "evalue": "name 'xwmfFunction' is not defined",
     "output_type": "error",
     "traceback": [
      "\u001b[0;31m---------------------------------------------------------------------------\u001b[0m",
      "\u001b[0;31mNameError\u001b[0m                                 Traceback (most recent call last)",
      "Cell \u001b[0;32mIn[3], line 1\u001b[0m\n\u001b[0;32m----> 1\u001b[0m x \u001b[38;5;241m=\u001b[39m \u001b[43mxwmfFunction\u001b[49m(Mp)\n\u001b[1;32m      2\u001b[0m Rp \u001b[38;5;241m=\u001b[39m RpFunction(CMFprime, x, Teq, Mp)\n\u001b[1;32m      3\u001b[0m \u001b[38;5;28mprint\u001b[39m(RpFunction(CMFprime, x, Teq, Mp)\u001b[38;5;241m/\u001b[39mRearth) \u001b[38;5;66;03m#radius IN EARTH RADII\u001b[39;00m\n",
      "\u001b[0;31mNameError\u001b[0m: name 'xwmfFunction' is not defined"
     ]
    }
   ],
   "source": [
    "#TEST CODE FROM MEETING\n",
    "x = xwmfFunction(Mp)\n",
    "Rp = RpFunction(CMFprime, x, Teq, Mp)\n",
    "print(RpFunction(CMFprime, x, Teq, Mp)/Rearth) #radius IN EARTH RADII\n",
    "print(mFunction(Mp, Rp, t)*(1e9*yr)/Mearth) #this gives mass loss in earth masses per billion years"
   ]
  },
  {
   "cell_type": "code",
   "execution_count": 4,
   "id": "e3b83c56-54f7-4909-9a7b-d853f1bdabbd",
   "metadata": {},
   "outputs": [
    {
     "ename": "NameError",
     "evalue": "name 'yr' is not defined",
     "output_type": "error",
     "traceback": [
      "\u001b[0;31m---------------------------------------------------------------------------\u001b[0m",
      "\u001b[0;31mNameError\u001b[0m                                 Traceback (most recent call last)",
      "Cell \u001b[0;32mIn[4], line 3\u001b[0m\n\u001b[1;32m      1\u001b[0m \u001b[38;5;66;03m#EVOLUTION\u001b[39;00m\n\u001b[0;32m----> 3\u001b[0m deltat \u001b[38;5;241m=\u001b[39m \u001b[38;5;241m1e6\u001b[39m\u001b[38;5;241m*\u001b[39m\u001b[43myr\u001b[49m \u001b[38;5;66;03m#incrimenting by 1 million years\u001b[39;00m\n\u001b[1;32m      5\u001b[0m \u001b[38;5;66;03m#what about the errors function in iop_ext ???\u001b[39;00m\n\u001b[1;32m      7\u001b[0m \u001b[38;5;28;01mwhile\u001b[39;00m (t \u001b[38;5;241m<\u001b[39m (\u001b[38;5;241m5\u001b[39m\u001b[38;5;241m*\u001b[39m\u001b[38;5;241m1e9\u001b[39m\u001b[38;5;241m*\u001b[39myr)): \u001b[38;5;66;03m#after it has evolved for 5 billion years\u001b[39;00m\n",
      "\u001b[0;31mNameError\u001b[0m: name 'yr' is not defined"
     ]
    }
   ],
   "source": [
    "#EVOLUTION\n",
    "\n",
    "deltat = 1e6*yr #incrimenting by 1 million years\n",
    "\n",
    "#what about the errors function in iop_ext ???\n",
    "\n",
    "while (t < (5*1e9*yr)): #after it has evolved for 5 billion years\n",
    "    x = xwmfFunction(Mp) \n",
    "    Rp = RpFunction(CMFprime, x, Teq, Mp)\n",
    "    m = mFunction(Mp, Rp, t)\n",
    "    #incriment variables for next loop\n",
    "    t = t+deltat\n",
    "    Mp = Mp-(m*deltat)"
   ]
  }
 ],
 "metadata": {
  "kernelspec": {
   "display_name": "Python 3 (ipykernel)",
   "language": "python",
   "name": "python3"
  },
  "language_info": {
   "codemirror_mode": {
    "name": "ipython",
    "version": 3
   },
   "file_extension": ".py",
   "mimetype": "text/x-python",
   "name": "python",
   "nbconvert_exporter": "python",
   "pygments_lexer": "ipython3",
   "version": "3.13.2"
  }
 },
 "nbformat": 4,
 "nbformat_minor": 5
}
