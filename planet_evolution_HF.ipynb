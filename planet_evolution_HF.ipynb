{
 "cells": [
  {
   "cell_type": "code",
   "execution_count": 2,
   "id": "43188d6a-9213-4b7e-a05c-7ba93951c227",
   "metadata": {},
   "outputs": [],
   "source": [
    "import numpy as np\n",
    "import pandas as pd #just in case i guess idk\n",
    "import matplotlib.pyplot as plt #for graphing?\n",
    "import math #this is how to get pi\n",
    "import iop_ext as iop #artem's code for the radius/error functions - irradiated ocean planets"
   ]
  },
  {
   "cell_type": "code",
   "execution_count": 3,
   "id": "a96e557b-8696-450a-bd6b-f71a60f2815b",
   "metadata": {},
   "outputs": [],
   "source": [
    "#DEFINE CONSTANTS\n",
    "Lsun = 3.846*10**(26) #luminosity of sun in watts\n",
    "Msun = 1.9891*10**(30) #mass of sun in kg\n",
    "Mearth = 5.97219*10**(24) #mass of earth in kg\n",
    "Rearth = 6.371*10**6 #radius of earth in m\n",
    "au = 1.49598*10**11 #astronomical unit (distance from earth to sun) in m\n",
    "yr = 3600*24*365 #converting years to seconds\n",
    "a0 = 0.5 #slope at which Lhe decreases over time\n",
    "tsat = 100*1e6*yr #in sec (length of the saturation phase?)\n",
    "G = 6.67 * 10**(-11) #universal gravitational constant\n",
    "pi = math.pi #pi\n",
    "\n",
    "#PLANET: TOI-836b\n",
    "Lstar =  0.14035930205*Lsun #luminosity of host star\n",
    "Mstar =  0.678*Msun #mass of host star\n",
    "Teq = 871 #equillibrium temperature of planet in K\n",
    "a = 0.04220*au #semimajor axis\n",
    "x0 = 0.5 #initial WMF (we decided this one arbitrarily)(this is why the radius we compute might not match the one in the catalog)\n",
    "\n",
    "Lsat = (10**(-3.5))*Lsun*(Mstar/Msun) #Lhe (high energy luminosity - Xrays and UV) during the saturation phase (Lhe remains constant)\n",
    "CMFprime = 0.325 #planet reduced core mass fraction (cmf') - same as earth"
   ]
  },
  {
   "cell_type": "code",
   "execution_count": 4,
   "id": "b16cadf0-202c-4c9a-bb27-0fde0d3b71a7",
   "metadata": {},
   "outputs": [],
   "source": [
    "#INITIALIZE VARIABLES (will be added to in the loop but this is where they start)\n",
    "t = 1e6*yr #initial time - 1 million\n",
    "M0 = 4.53*Mearth #initial mass of planet\n",
    "Mp = M0 #planet mass"
   ]
  },
  {
   "cell_type": "code",
   "execution_count": 5,
   "id": "d9bdb1cc-9700-4b53-9fd3-2befc891f773",
   "metadata": {},
   "outputs": [],
   "source": [
    "#DEFINE FUNCTIONS\n",
    "def RpFunction(CMF, x, Teq, Mp): #function to find the radius of the planet in m\n",
    "    radius = iop.radius_iop(CMF, x, Teq, Mp/Mearth) #computes the radius of a planet, using the IOP model from Aguichine 2021\n",
    "    return radius*Rearth\n",
    "\n",
    "def nFunction(Mp, Rp): #n = efficiency parameter (greek letter eta) (unitless) - how much high energy is converted into mass loss\n",
    "    vesc = ((2*G*Mp)/(Rp))**(1/2) #escape velocity at the planet's surface\n",
    "    n = 0.1*((vesc/15)**(-2))\n",
    "    return n\n",
    "\n",
    "def LheFunction(t): #Lhe = high energy luminosity of the host star\n",
    "    if (t<tsat):\n",
    "        return Lsat\n",
    "    else:\n",
    "        Lhe = Lsat*((t/tsat)**(-1-a0))\n",
    "        return Lhe\n",
    "\n",
    "def mFunction(Mp, Rp, t): #first time derivative of Mp (mass loss rate) in kg/s\n",
    "    Lhe = LheFunction(t)\n",
    "    n = nFunction(Mp, Rp)\n",
    "    m = (n*(((pi)*(Rp**3)*(Lhe))/(4*(pi)*(a**2)*(G)*(Mp))))\n",
    "    return m #this returns the mass loss rate in kilograms per second\n",
    "#to get mass loss in earth masses per billion years, multiply result by 1e9*yr and divide by Mearth (see test code from meeting)\n",
    "\n",
    "def xwmfFunction(Mp): #x = water mass fraction\n",
    "    # original guess was x = (Mp-(M0*x0))/Mp but I fear that may be wrong\n",
    "    x = (M0*x0-M0+Mp)/Mp\n",
    "    #basically W0(initial amount of water) = M0*x0, Mlost = M0-Mf, Wf(final amount of water) = W0-Mlost, x = (Wf/Mf)\n",
    "    return x"
   ]
  },
  {
   "cell_type": "code",
   "execution_count": 6,
   "id": "facaae5f-36fc-4c48-aea5-b3a265ef88f0",
   "metadata": {},
   "outputs": [
    {
     "name": "stdout",
     "output_type": "stream",
     "text": [
      "2.3985530367081833\n",
      "5.145652332928707e-07\n"
     ]
    }
   ],
   "source": [
    "#TEST CODE FROM MEETING\n",
    "x = xwmfFunction(Mp)\n",
    "R0 = RpFunction(CMFprime, x, Teq, Mp)\n",
    "print(RpFunction(CMFprime, x, Teq, Mp)/Rearth) #radius IN EARTH RADII\n",
    "print(mFunction(Mp, R0, t)*(1e9*yr)/Mearth) #this gives mass loss in earth masses per billion years"
   ]
  },
  {
   "cell_type": "code",
   "execution_count": 7,
   "id": "e3b83c56-54f7-4909-9a7b-d853f1bdabbd",
   "metadata": {},
   "outputs": [
    {
     "name": "stdout",
     "output_type": "stream",
     "text": [
      "Initial Mass: 2.70540207e+25,  Initial Radius: 15281181.396867836,  Initial WMF: 0.5\n",
      "Final Mass: 2.70540198665322e+25,  Final Radius: 15281181.235045956,  Final WMF: 0.4999999845962299\n",
      "\n",
      "Initial Mass, Radii in Earth units: 4.53, 2.3985530367081833\n",
      "Final Mass, Radii in Earth units: 4.529999860441848, 2.398553011308422\n",
      "\n",
      "0.0\n",
      "0.0\n",
      "0.0\n"
     ]
    }
   ],
   "source": [
    "#EVOLUTION\n",
    "\n",
    "deltat = 1e6*yr #incrimenting by 1 million years\n",
    "\n",
    "R0 = RpFunction(CMFprime, x, Teq, Mp)\n",
    "m = mFunction(M0, R0, t)\n",
    "\n",
    "x = -1 #for assigning values to arrays\n",
    "timeArray = np.zeros(1000) #1000 empty spaces\n",
    "massArray = np.zeros(1000)\n",
    "radiusArray = np.zeros(1000)\n",
    "\n",
    "while (t < (5*1e9*yr)): #after it has evolved for 5 billion years\n",
    "    t = t+deltat #incriments t\n",
    "    Mp = Mp-(m*deltat) #incriments Mp\n",
    "    x = xwmfFunction(Mp)\n",
    "    Rp = RpFunction(CMFprime, x, Teq, Mp)\n",
    "    m = mFunction(Mp, Rp, t)\n",
    "    #store these values in arrays:\n",
    "    if ((t-1000000)%5000000 == 0): #every five million years (1000 times)\n",
    "        x += 1\n",
    "        timeArray[x] = t\n",
    "        massArray[x] = Mp\n",
    "        radiusArray[x] = Rp\n",
    "\n",
    "\n",
    "print(\"Initial Mass: \" + str(M0) + \",  Initial Radius: \" + str(R0) + \",  Initial WMF: \" + str(x0)) # print all initial properties\n",
    "print(\"Final Mass: \" + str(Mp) + \",  Final Radius: \" + str(Rp) + \",  Final WMF: \" + str(x)) # print final properties\n",
    "print()\n",
    "print(\"Initial Mass, Radii in Earth units: \" + str(M0/Mearth) + \", \" + str(R0/Rearth))\n",
    "print(\"Final Mass, Radii in Earth units: \" + str(Mp/Mearth) + \", \" + str(Rp/Rearth))\n",
    "\n",
    "print()\n",
    "\n",
    "print(timeArray[0])\n",
    "print(timeArray[500])\n",
    "print(timeArray[999])"
   ]
  }
 ],
 "metadata": {
  "kernelspec": {
   "display_name": "Python 3 (ipykernel)",
   "language": "python",
   "name": "python3"
  },
  "language_info": {
   "codemirror_mode": {
    "name": "ipython",
    "version": 3
   },
   "file_extension": ".py",
   "mimetype": "text/x-python",
   "name": "python",
   "nbconvert_exporter": "python",
   "pygments_lexer": "ipython3",
   "version": "3.13.2"
  }
 },
 "nbformat": 4,
 "nbformat_minor": 5
}
