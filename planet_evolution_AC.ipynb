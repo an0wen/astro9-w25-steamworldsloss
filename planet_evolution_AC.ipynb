{
 "cells": [
  {
   "cell_type": "code",
   "execution_count": 54,
   "id": "5fd3acbd-8af8-43bf-9157-0560f7a4326c",
   "metadata": {},
   "outputs": [],
   "source": [
    "import numpy as np\n",
    "import matplotlib.pyplot as plt\n",
    "import iop_ext as iop\n",
    "import lf14 as lf\n",
    "import math"
   ]
  },
  {
   "cell_type": "code",
   "execution_count": 91,
   "id": "1b590885-6244-4723-8151-ebc56e635be0",
   "metadata": {},
   "outputs": [],
   "source": [
    "#assigning constants\n",
    "\n",
    "#use NEA & use constants regarding a singular exoplanet\n",
    "au=1.49598e11 #meters - astronomical unit(dist. from Earth to Sun)\n",
    "L_sun=3.828e26 #Watts - luminosity of our star\n",
    "M_sun=1.989e30 #Kg - mass of our star\n",
    "M_ea=5.97219e24 #Kg - mass of earth\n",
    "R_ea=6.371e6 #meters - radius of earth\n",
    "L_star=0.5*L_sun #placeholder \n",
    "M_star=0.5*M_sun #placeholder\n",
    "Teq=700 # Equilibrium temperature in Kelvin\n",
    "a= 0.01*au #semimajor axis\n",
    "a_0 = 0.5 ##slope at which L_He decreases over time\n",
    "yr=3600*24*365 #Converting year to seconds\n",
    "t_sat=100_000_000*yr #100 million years to seconds\n",
    "cmf_p=0.325 #reduced core mass fraction\n",
    "G=6.67e-11 #Universal Gravitational Constant\n",
    "L_sat=(10**-3.5)*L_sun*(M_star/M_sun) #Saturation Luminosity\n",
    "pi=math.pi\n",
    "x0=0.5 #initial water mass fraction\n"
   ]
  },
  {
   "cell_type": "code",
   "execution_count": 68,
   "id": "2ba38bbf-96e1-4b29-aa25-3ed933944d4a",
   "metadata": {},
   "outputs": [],
   "source": [
    "#initalizing variables\n",
    "t=1e6*yr #1 million years to seconds\n",
    "Mp0=11.13*M_ea #Range from 1-20"
   ]
  },
  {
   "cell_type": "code",
   "execution_count": 106,
   "id": "b014dbd8-ecad-4168-b426-298f71b58701",
   "metadata": {},
   "outputs": [],
   "source": [
    "#functions\n",
    "#Mp will range from 0-20 in terms of Earth masses\n",
    "\n",
    "#FOR RADIUS, USE IOP & ERROR IOP\n",
    "def Rp_function(CMF,X,Mp):\n",
    "    return(iop.radius_iop(CMF,X,Teq,Mp)) #X is water mass fraction, function not made yet\n",
    "#High energy luminosity\n",
    "def L_He_function(M_star,t): #t in Myr\n",
    "    if t<t_sat:\n",
    "        return(L_sat)\n",
    "    else:\n",
    "        return((L_sat)*((t/t_sat)**(-1-a_0)))\n",
    "#Efficiency parameter η - how much HE is converted into mass loss\n",
    "def eff_par(Mp,Rp):\n",
    "    v_esc=((2*(G)*Mp)/(Rp))**(0.5)\n",
    "    return(0.1*(((v_esc)/(15))**(-2)))\n",
    "#Mass-loss rate\n",
    "def m_l_rate(Mp,Rp): #In earth masses/Billion Years\n",
    "    L_HiE=L_He_function(M_star,t)\n",
    "    e_p=eff_par(Mp,Rp)\n",
    "    return(e_p*((Rp**3)*L_HiE)/(4*(a**2)*(G)*Mp))"
   ]
  },
  {
   "cell_type": "code",
   "execution_count": 96,
   "id": "ed9fd626-768d-440c-8e08-132ae4b22f38",
   "metadata": {},
   "outputs": [
    {
     "name": "stdout",
     "output_type": "stream",
     "text": [
      "1.9368941442999708e+24\n"
     ]
    }
   ],
   "source": [
    "Rp=Rp_function(0.325,0.2,700,11.13*M_ea)\n",
    "print(Rp)"
   ]
  },
  {
   "cell_type": "code",
   "execution_count": 107,
   "id": "0ba1092e-50f0-4077-b517-5485a2258008",
   "metadata": {},
   "outputs": [
    {
     "name": "stdout",
     "output_type": "stream",
     "text": [
      "6.086072842194348e+48\n",
      "1075749625187406.5\n",
      "1.4250185474139357e+63\n"
     ]
    }
   ],
   "source": [
    "#function testing\n",
    "print(L_He(100**28,15000))\n",
    "print(eff_par(1,6378))\n",
    "print(m_l_rate(Mp,Rp)*(1e9*yr)/M_ea)"
   ]
  },
  {
   "cell_type": "code",
   "execution_count": null,
   "id": "801277d0-801f-402d-b342-66f3deb93a65",
   "metadata": {},
   "outputs": [],
   "source": []
  },
  {
   "cell_type": "code",
   "execution_count": null,
   "id": "7b68965b-c3f4-43ae-aeba-130a7945cf6e",
   "metadata": {},
   "outputs": [],
   "source": []
  },
  {
   "cell_type": "code",
   "execution_count": 55,
   "id": "1ad4a714-53db-4580-9338-1bf77eb3dbfe",
   "metadata": {},
   "outputs": [
    {
     "data": {
      "text/plain": [
       "3.141592653589793"
      ]
     },
     "execution_count": 55,
     "metadata": {},
     "output_type": "execute_result"
    }
   ],
   "source": [
    "#deltat should be 1 million years"
   ]
  },
  {
   "cell_type": "code",
   "execution_count": null,
   "id": "02b5525f-9ab9-445a-a31b-5517dcc954ec",
   "metadata": {},
   "outputs": [],
   "source": []
  }
 ],
 "metadata": {
  "kernelspec": {
   "display_name": "Python 3 (ipykernel)",
   "language": "python",
   "name": "python3"
  },
  "language_info": {
   "codemirror_mode": {
    "name": "ipython",
    "version": 3
   },
   "file_extension": ".py",
   "mimetype": "text/x-python",
   "name": "python",
   "nbconvert_exporter": "python",
   "pygments_lexer": "ipython3",
   "version": "3.13.2"
  }
 },
 "nbformat": 4,
 "nbformat_minor": 5
}
