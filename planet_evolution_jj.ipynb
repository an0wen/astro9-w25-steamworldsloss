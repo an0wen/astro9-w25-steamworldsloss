{
 "cells": [
  {
   "cell_type": "code",
   "execution_count": 5,
   "id": "c04283c4-2c3b-43ed-bc66-24ea406384fe",
   "metadata": {},
   "outputs": [],
   "source": [
    "import numpy as np\n",
    "import matplotlib.pyplot as plt\n",
    "import iop_ext as iop # provides radius in earth radii\n",
    "import lf14 as lf"
   ]
  },
  {
   "cell_type": "code",
   "execution_count": 3,
   "id": "039258bc-9b02-4530-a8ac-e9208a27d4b3",
   "metadata": {},
   "outputs": [],
   "source": [
    "# Define constants\n",
    "# SUB NEPTUNE OF CHOICE: idk\n",
    "\n",
    "# basic constants\n",
    "au = 1.49598e11 # AU to m (astronomical unit)\n",
    "yr = 3600 * 24 * 365 #year conversion rate to seconds\n",
    "G = 6.67e-11 \n",
    "Mearth = 5.97219e24 # kg\n",
    "Rearth = 6.371e6 # m \n",
    "a_o = .5 # slope at which Lhe decreases over time\n",
    "Lsun = 3.846e26 # luminosity in watts of sun\n",
    "Msun = 1.99e30 # mass kg of sun\n",
    "\n",
    "# Exoplanet constants\n",
    "cmf = .325\n",
    "mp_o = 1*Mearth\n",
    "#wmf_o = \n",
    "Lstar = .5*Lsun# Luminsotiy in watts of host star\n",
    "Mstar = .5*Msun # mass kg of host star\n",
    "Lsat = 1\n",
    "tsat = 100000000*yr\n",
    "Teq = 700 # Kelvin\n",
    "a = 1*au # semi majoral axis (x*au)\n",
    "\n",
    "\n",
    "#for planet specific data, check NASA exoplanet archive and input manually"
   ]
  },
  {
   "cell_type": "code",
   "execution_count": 10,
   "id": "ed7c456b-c3b4-4be4-9d52-4ca5398033bc",
   "metadata": {},
   "outputs": [
    {
     "name": "stdout",
     "output_type": "stream",
     "text": [
      "1000000.0\n",
      "2000000.0\n",
      "3000000.0\n",
      "4000000.0\n",
      "5000000.0\n"
     ]
    }
   ],
   "source": [
    "# Initialize variables\n",
    "\n",
    "mp = mp_o\n",
    "\n",
    "maxt = 5e6 #make sure to switch back to 5e9\n",
    "t= 1e6\n",
    "while t<=maxt:\n",
    "    print(t)\n",
    "    t+=1e6\n",
    "#t = 1e6 # t_o: initial planet formation, ~1,000,000 yr (1e6)"
   ]
  },
  {
   "cell_type": "code",
   "execution_count": 6,
   "id": "201e823c-b344-41b8-94c2-77ba5196a381",
   "metadata": {},
   "outputs": [],
   "source": [
    "# Define functions\n",
    "\n",
    "#wmf(mp, mp_o, wmf_o)\n",
    "def wmf(mp, mp_o, wmf_o):\n",
    "    a\n",
    "\n",
    "#Lhe(t,Mstar)\n",
    "def Lhe(t,Mstar):\n",
    "    if (t<tsat):\n",
    "        return Lsat\n",
    "    else:\n",
    "        return Lsat*((t/tsat)**(-1-a_o))\n",
    "\n",
    "#mdot(mp,rp,Lhe,a...etc?) units: earth masses per billion years\n",
    "def mdot(mp,rp,Lhe,a,eta):\n",
    "    return eta*((rp**3)*Lhe)/(4*(a**2)*G*mp)\n",
    "\n",
    "#eta(mp,rp)\n",
    "def eta(mp,rp):\n",
    "    return (45*rp)/(4*G*mp)\n",
    "\n",
    "#rp(cmf,wmf,Teq,mp)\n",
    "def rp(cmf,wmf,Teq,mp):\n",
    "    rp=iop.radius_iop(cmf,wmf,Teq,mp)\n",
    "    "
   ]
  },
  {
   "cell_type": "code",
   "execution_count": 12,
   "id": "d7292586-74ac-405a-83a1-b7fb92d9e3c6",
   "metadata": {},
   "outputs": [
    {
     "name": "stdout",
     "output_type": "stream",
     "text": [
      "8000000.0\n"
     ]
    }
   ],
   "source": []
  },
  {
   "cell_type": "code",
   "execution_count": null,
   "id": "703333c0-65a7-44b9-977e-fc948be1bba6",
   "metadata": {},
   "outputs": [],
   "source": [
    "#evolution of planet\n",
    "\n"
   ]
  }
 ],
 "metadata": {
  "kernelspec": {
   "display_name": "Python 3 (ipykernel)",
   "language": "python",
   "name": "python3"
  },
  "language_info": {
   "codemirror_mode": {
    "name": "ipython",
    "version": 3
   },
   "file_extension": ".py",
   "mimetype": "text/x-python",
   "name": "python",
   "nbconvert_exporter": "python",
   "pygments_lexer": "ipython3",
   "version": "3.13.2"
  }
 },
 "nbformat": 4,
 "nbformat_minor": 5
}
