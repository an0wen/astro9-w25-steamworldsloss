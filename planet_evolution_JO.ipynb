{
 "cells": [
  {
   "cell_type": "code",
   "execution_count": 2,
   "id": "6720c169-e71c-4149-832d-ad2fa86e738a",
   "metadata": {},
   "outputs": [],
   "source": [
    "import numpy as np\n",
    "import matplotlib.pyplot as plt\n",
    "import math \n",
    "import iop_ext as iop #artem stuff"
   ]
  },
  {
   "cell_type": "markdown",
   "id": "bfd3b235-11e2-48de-85e9-05c9ec836d9f",
   "metadata": {},
   "source": [
    "***DEFINE CONSTANTS - EXOPLANET OF INTEREST: Kepler 80-d***"
   ]
  },
  {
   "cell_type": "code",
   "execution_count": 3,
   "id": "f29c7fed-191e-41a1-97f6-5ea2be832d1b",
   "metadata": {},
   "outputs": [
    {
     "ename": "SyntaxError",
     "evalue": "invalid syntax (999891965.py, line 13)",
     "output_type": "error",
     "traceback": [
      "\u001b[0;36m  Cell \u001b[0;32mIn[3], line 13\u001b[0;36m\u001b[0m\n\u001b[0;31m    Lstar =  #Luminosity of host star\u001b[0m\n\u001b[0m             ^\u001b[0m\n\u001b[0;31mSyntaxError\u001b[0m\u001b[0;31m:\u001b[0m invalid syntax\n"
     ]
    }
   ],
   "source": [
    "Lsun = 3.846e26 #Luminosity of the Sun in W\n",
    "Msun = 1.9891e30 #Mass of the Sun in KG\n",
    "Mearth = 5.97219e24 #Mass of Earth in KG\n",
    "Rearth = 6.371e6 #Radius of Earth in m\n",
    "au = 1.49598e11 #AU in m\n",
    "yr = 3600*24*365 #Year to Seconds converter\n",
    "a0 = 0.5 #Slope of LHE (high energy luminosity)\n",
    "tsat = 1.0e8*yr #Duration of saturation phase\n",
    "G = 6.67e-11 #Universal gravitational constant\n",
    "pi = math.pi #pi\n",
    "\n",
    "#PLANET: Go to NEA and input an exoplanets data in the following:\n",
    "Lstar =  #Luminosity of host star\n",
    "Mstar =  #Mass of the host star\n",
    "Teq =  #EQ Temp in K \n",
    "a = #Semi-major axis\n",
    "x0 = #Initial WMF\n",
    "CMFprime = 0.325 #Reduced CMF\n",
    "Lsat = (10**(-3.5))*Lsun*(Mstar/Msun) #LHE During the saturation phase"
   ]
  },
  {
   "cell_type": "markdown",
   "id": "be71be81-9b31-47b0-8ff8-c8dea839d291",
   "metadata": {},
   "source": [
    "***INITIALIZE VARIABLES***"
   ]
  },
  {
   "cell_type": "code",
   "execution_count": 4,
   "id": "d60aa43b-c434-436c-9f5b-8c497ac05db8",
   "metadata": {},
   "outputs": [
    {
     "ename": "NameError",
     "evalue": "name 'yr' is not defined",
     "output_type": "error",
     "traceback": [
      "\u001b[0;31m---------------------------------------------------------------------------\u001b[0m",
      "\u001b[0;31mNameError\u001b[0m                                 Traceback (most recent call last)",
      "Cell \u001b[0;32mIn[4], line 1\u001b[0m\n\u001b[0;32m----> 1\u001b[0m t \u001b[38;5;241m=\u001b[39m \u001b[38;5;241m1e6\u001b[39m \u001b[38;5;241m*\u001b[39m \u001b[43myr\u001b[49m \u001b[38;5;66;03m#1 million years to seconds\u001b[39;00m\n\u001b[1;32m      2\u001b[0m M0 \u001b[38;5;241m=\u001b[39m \u001b[38;5;241m5\u001b[39m \u001b[38;5;241m*\u001b[39m Mearth \u001b[38;5;66;03m#Initial mass of Planet\u001b[39;00m\n\u001b[1;32m      3\u001b[0m Mp \u001b[38;5;241m=\u001b[39m M0 \u001b[38;5;66;03m#Planet mass\u001b[39;00m\n",
      "\u001b[0;31mNameError\u001b[0m: name 'yr' is not defined"
     ]
    }
   ],
   "source": [
    "t = 1e6 * yr #1 million years to seconds\n",
    "M0 = 5 * Mearth #Initial mass of Planet\n",
    "Mp = M0 #Planet mass"
   ]
  },
  {
   "cell_type": "markdown",
   "id": "7da29b3b-87c7-4029-acf9-35de82acfabb",
   "metadata": {},
   "source": [
    "***DEFINE FUNCTIONS***"
   ]
  },
  {
   "cell_type": "code",
   "execution_count": null,
   "id": "ecfa4fe3-2bee-4b3a-811e-f771cadfd595",
   "metadata": {},
   "outputs": [],
   "source": [
    "def RpFunction(CMF, x, Teq, Mp): #Function to find radius of planet in m\n",
    "    radius = iop.radius_iop(CMF, x, Teq, Mp/Mearth) #thank you artem for the heavy lifting :D\n",
    "    return radius*Rearth\n",
    "\n",
    "def nFunction(Mp, Rp): #N is the efficiency parameter (Greek letter) how much energy is converted to mass loss\n",
    "    vesc = ((2*G*Mp)/(Rp))**(1/2) #Escape velocity of the planet\n",
    "    n = 0.1*((vesc/15)**-2)\n",
    "    return n\n",
    "\n",
    "def LheFunction(t): #LHE\n",
    "    if (t<tsat):\n",
    "        return Lsat\n",
    "    else:\n",
    "        Lhe = Lsat*((t/tsat)**(-1-a0))\n",
    "        return Lhe\n",
    "\n",
    "def mFunction(Mp, Rp, t): #Time derivative of Mp in kg/s lost\n",
    "    Lhe = LheFunction(t)\n",
    "    n = nFunction(Mp, Rp)\n",
    "    m = (n*(((pi)*(Rp**3)*(Lhe))/(4*(pi)*(a**2)*(G)*(Mp))))\n",
    "    return m #[(m*1e9*yr)/Mearth] to return mass in Eearthmass per billion years\n",
    "\n",
    "\n",
    "def xwmfFunction(Mp): #xwmf = WMF\n",
    "    x = (M0*x0-M0+Mf)/Mf\n",
    "    return x #kinda confused let me ask artem\n"
   ]
  }
 ],
 "metadata": {
  "kernelspec": {
   "display_name": "Python 3 (ipykernel)",
   "language": "python",
   "name": "python3"
  },
  "language_info": {
   "codemirror_mode": {
    "name": "ipython",
    "version": 3
   },
   "file_extension": ".py",
   "mimetype": "text/x-python",
   "name": "python",
   "nbconvert_exporter": "python",
   "pygments_lexer": "ipython3",
   "version": "3.13.2"
  }
 },
 "nbformat": 4,
 "nbformat_minor": 5
}
